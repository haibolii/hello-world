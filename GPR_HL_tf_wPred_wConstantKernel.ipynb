{
 "cells": [
  {
   "cell_type": "code",
   "execution_count": 1,
   "metadata": {},
   "outputs": [
    {
     "name": "stderr",
     "output_type": "stream",
     "text": [
      "C:\\Users\\hl62868\\AppData\\Local\\Continuum\\anaconda3\\lib\\site-packages\\h5py\\__init__.py:36: FutureWarning: Conversion of the second argument of issubdtype from `float` to `np.floating` is deprecated. In future, it will be treated as `np.float64 == np.dtype(float).type`.\n",
      "  from ._conv import register_converters as _register_converters\n"
     ]
    }
   ],
   "source": [
    "import tensorflow as tf\n",
    "import numpy as np\n",
    "import matplotlib.pyplot as plt\n",
    "import time\n",
    "import random"
   ]
  },
  {
   "cell_type": "code",
   "execution_count": 2,
   "metadata": {},
   "outputs": [],
   "source": [
    "def scaled_square_dist(lengthscales, X, X2=None):\n",
    "    X = X / lengthscales\n",
    "    Xs = tf.reduce_sum(tf.square(X), axis=1)\n",
    "    \n",
    "    if X2 is None:\n",
    "        dist = -2 * tf.matmul(X, X, transpose_b=True)\n",
    "        dist += tf.reshape(Xs, (-1, 1))  + tf.reshape(Xs, (1, -1))\n",
    "        return dist\n",
    "    \n",
    "    X2 = X2 / lengthscales\n",
    "    X2s = tf.reduce_sum(tf.square(X2), axis=1)\n",
    "    dist = -2 * tf.matmul(X, X2, transpose_b=True)\n",
    "    dist += tf.reshape(Xs, (-1, 1)) + tf.reshape(X2s, (1, -1))\n",
    "    return dist\n",
    "\n",
    "\"\"\"\n",
    "def rbf(lengthscale,sigma,X,X2=None):\n",
    "    n,d =X.shape\n",
    "\n",
    "    cons = tf.constant(1e-4,dtype=tf.float32)\n",
    "    X = X / lengthscale\n",
    "    Xs = tf.reduce_sum(tf.square(X), axis=1,keepdims=True)\n",
    "\n",
    "    temp1 = tf.add(Xs,tf.transpose(Xs))\n",
    "    temp2 = -2*tf.matmul(X,tf.transpose(X))\n",
    "    temp3 = tf.add(temp1,temp2)\n",
    "    temp4 = sigma*tf.exp(-temp3/2)\n",
    "    \n",
    "    K = tf.add(temp4,cons*tf.eye(int(n),dtype=tf.float32))\n",
    "\n",
    "    return K\n",
    "\"\"\"\n",
    "\n",
    "\n",
    "def rbf(lengthscale,sigma,X,X2=None):\n",
    "    return sigma*tf.exp(-scaled_square_dist(lengthscale,X,X2) / 2)\n"
   ]
  },
  {
   "cell_type": "code",
   "execution_count": 3,
   "metadata": {},
   "outputs": [],
   "source": [
    "def base_conditional(Kmn, Kmm, Knn, f, white=False):\n",
    "    \"\"\"\n",
    "    Given a g1 and g2, and distribution p and q such that\n",
    "      p(g2) = N(g2;0,Kmm)\n",
    "      p(g1) = N(g1;0,Knn)\n",
    "      p(g1|g2) = N(g1;0,Knm)\n",
    "    And\n",
    "      q(g2) = N(g2;f,q_sqrt*q_sqrt^T)\n",
    "    This method computes the mean and (co)variance of\n",
    "      q(g1) = \\int q(g2) p(g1|g2)\n",
    "    :param Kmn: M x N\n",
    "    :param Kmm: M x M\n",
    "    :param Knn: N x N  or  N\n",
    "    :param f: M x R\n",
    "    :return: N x R  or R x N x N\n",
    "    \"\"\"\n",
    "\n",
    "    #num_func = tf.shape(f)[1]  # R\n",
    "    Lm = tf.cholesky(Kmm)\n",
    "\n",
    "    # Compute the projection matrix A\n",
    "    A = tf.matrix_triangular_solve(Lm, Kmn, lower=True)\n",
    "\n",
    "    # compute the covariance due to the conditioning\n",
    "\n",
    "    #fvar = Knn - tf.reduce_sum(tf.square(A), 0)\n",
    "    #fvar = tf.tile(fvar[None, :], [num_func, 1])  # R x N\n",
    "\n",
    "    # another backsubstitution in the unwhitened case\n",
    "    if not white:\n",
    "        A = tf.matrix_triangular_solve(tf.transpose(Lm), A, lower=False)\n",
    "\n",
    "    # construct the conditional mean\n",
    "    fmean = tf.matmul(A, f, transpose_a=True)\n",
    "\n",
    "    #fvar = tf.transpose(fvar)  # N x R\n",
    "\n",
    "    return fmean#, fvar  # N x R, R x N x N or N x R"
   ]
  },
  {
   "cell_type": "code",
   "execution_count": 4,
   "metadata": {},
   "outputs": [],
   "source": [
    "def multivariate_normal(x,mu,L):\n",
    "    \"\"\"\n",
    "    Computes the log-density of a multivariate normal.\n",
    "    :param x  : Dx1 or DxN sample(s) for which we want the density\n",
    "    :param mu : Dx1 or DxN mean(s) of the normal distribution\n",
    "    :param L  : DxD Cholesky decomposition of the covariance matrix\n",
    "    :return p : (1,) or (N,) vector of log densities for each of the N x's and/or mu's\n",
    "    x and mu are either vectors or matrices. If both are vectors (N,1):\n",
    "    p[0] = log pdf(x) where x ~ N(mu, LL^T)\n",
    "    If at least one is a matrix, we assume independence over the *columns*:\n",
    "    the number of rows must match the size of L. Broadcasting behaviour:\n",
    "    p[n] = log pdf of:\n",
    "    x[n] ~ N(mu, LL^T) or x ~ N(mu[n], LL^T) or x[n] ~ N(mu[n], LL^T)\n",
    "    \"\"\"\n",
    "    d = x - mu\n",
    "    alpha = tf.matrix_triangular_solve(L, d, lower=True)\n",
    "    num_dims = tf.cast(tf.shape(d)[0], L.dtype)\n",
    "    p = - 0.5 * tf.reduce_sum(tf.square(alpha), 0)\n",
    "    p -= 0.5 * num_dims * np.log(2 * np.pi)\n",
    "    p -= tf.reduce_sum(tf.log(tf.matrix_diag_part(L)))\n",
    "    return p\n",
    "    "
   ]
  },
  {
   "cell_type": "code",
   "execution_count": 5,
   "metadata": {},
   "outputs": [],
   "source": [
    "class GPR():\n",
    "    \n",
    "    def __init__(self,X_,Y_):\n",
    "        self.n,self.d =X_.shape\n",
    "        \n",
    "        self.X = tf.constant(X_,dtype=tf.float32)\n",
    "        self.Y = tf.constant(Y_,dtype=tf.float32)\n",
    "        \n",
    "        #self.lengthscale = tf.Variable(np.array([1 for i in range(self.d)]),dtype=tf.float32,name='lengthscale')\n",
    "        self.sigma = tf.Variable(random.random(),dtype=tf.float32,name='sigma')\n",
    "        self.lengthscale = tf.random_normal([1,self.d],dtype=tf.float32,name='lengthscale')\n",
    "        #self.sigma = tf.random_normal([1,0],dtype=tf.float32,name='sigma')\n",
    "        \n",
    "        self.likelihood_variance = tf.constant(1e-10,dtype = tf.float32)\n",
    "        \n",
    "    def _build_likelihood(self):\n",
    "        K = rbf(self.lengthscale,self.sigma,self.X)+tf.eye(self.n, dtype=tf.float32) * self.likelihood_variance\n",
    "        L = tf.cholesky(K)\n",
    "        logpdf = multivariate_normal(self.Y, 0, L)\n",
    "        \n",
    "        return tf.reduce_sum(logpdf)\n",
    "    \n",
    "    def objective(self):\n",
    "        obj = - self._build_likelihood()\n",
    "        return obj\n",
    "    \n",
    "    def optimize(self):\n",
    "        loss = - self._build_likelihood()\n",
    "        optimizer = tf.train.AdamOptimizer().minimize(loss)\n",
    "        \n",
    "        return loss, optimizer\n",
    "    \n",
    "    def predict(self,Xnew_):\n",
    "        Xnew = tf.constant(Xnew_,dtype=tf.float32)\n",
    "        y = self.Y\n",
    "        Kmn = rbf(self.lengthscale,self.sigma,self.X,Xnew)\n",
    "        Kmm_sigma = rbf(self.lengthscale,self.sigma,self.X)+tf.eye(self.n, dtype=tf.float32) * self.likelihood_variance\n",
    "        Knn = tf.fill(tf.stack([tf.shape(Xnew)[0]]), tf.squeeze(self.sigma))\n",
    "        f_mean = base_conditional(Kmn, Kmm_sigma, Knn, y,white=False)\n",
    "        \n",
    "        return f_mean\n",
    "        "
   ]
  },
  {
   "cell_type": "code",
   "execution_count": 6,
   "metadata": {},
   "outputs": [],
   "source": [
    "def train(sess,m):\n",
    "    #sess.run(tf.global_variables_initializer())\n",
    "    loss, optimizer = m.optimize()\n",
    "    sess.run(tf.global_variables_initializer())\n",
    "    sess.run(optimizer)"
   ]
  },
  {
   "cell_type": "code",
   "execution_count": 6,
   "metadata": {},
   "outputs": [],
   "source": [
    "def g(x):\n",
    "    result = []\n",
    "    for item in x:\n",
    "        result.append(np.dot(item,np.sin(item)))\n",
    "    return np.array(result).reshape(-1,1)"
   ]
  },
  {
   "cell_type": "code",
   "execution_count": 7,
   "metadata": {},
   "outputs": [],
   "source": [
    "# number of training points\n",
    "num = 5000\n",
    "# dimension of input data\n",
    "d = 100\n",
    "\n",
    "X = np.random.rand(num, d)*1\n",
    "Y = g(X) + np.random.randn(num,1) * 0.001\n",
    "\n",
    "X_test = np.random.rand(int(num/20), d)*1\n",
    "Y_test = g(X_test) + np.random.randn(int(num/20),1) * 0.001\n",
    "\n",
    "#X = tf.constant(X,dtype=tf.float32)\n",
    "#Y = tf.constant(Y,dtype=tf.float32)\n",
    "#X_test = tf.constant(X_test,dtype=tf.float32)"
   ]
  },
  {
   "cell_type": "code",
   "execution_count": 8,
   "metadata": {},
   "outputs": [
    {
     "data": {
      "text/plain": [
       "(5000, 100)"
      ]
     },
     "execution_count": 8,
     "metadata": {},
     "output_type": "execute_result"
    }
   ],
   "source": [
    "X.shape"
   ]
  },
  {
   "cell_type": "code",
   "execution_count": 9,
   "metadata": {},
   "outputs": [
    {
     "name": "stdout",
     "output_type": "stream",
     "text": [
      "5000\n"
     ]
    }
   ],
   "source": [
    "m = GPR(X,Y)\n",
    "print(m.n)"
   ]
  },
  {
   "cell_type": "code",
   "execution_count": 10,
   "metadata": {},
   "outputs": [
    {
     "name": "stdout",
     "output_type": "stream",
     "text": [
      "Lengthscale and variance before traing:\n",
      "[[ 0.03247521  1.80073     1.585843    1.2733274  -1.2900414  -0.18748412\n",
      "   0.97167486 -0.22349952  0.4775196   1.8615371  -0.37863794 -0.26570317\n",
      "   1.2355932  -0.04794242  2.3294678   0.13739118  0.918546   -1.0011652\n",
      "  -0.21519792  2.0383048  -1.6645936   1.3986082   0.9333968  -0.6334626\n",
      "   1.7407638  -1.0301738  -2.0028694  -1.3287133  -0.5679659   0.5673908\n",
      "   0.6419011   1.178975   -0.51786083  0.20579934 -1.357573    1.5216389\n",
      "  -0.23703048 -0.21785755 -1.3600526   0.84253025 -1.1216326  -0.46642697\n",
      "   0.70954704  1.3361639   1.3849596   2.5496447  -0.49657086  0.3613998\n",
      "  -0.4526454  -0.46553296  0.6150385   1.2216097   1.4232559  -1.0178919\n",
      "  -0.03682132 -0.4183236  -0.15821639  0.59518653 -0.8904212  -1.6216046\n",
      "  -0.00720079 -0.61343586 -1.1054192  -1.513813   -1.1492251  -0.38926408\n",
      "  -1.5344609  -0.83273315 -2.0183332   0.23943992  1.6140903   0.9135884\n",
      "   0.3160086   1.3949625  -0.1680535  -0.26491988 -0.09364156 -1.7918214\n",
      "   0.36252314  0.92791337  1.0849187  -0.3625469   1.2603517  -0.02708149\n",
      "   1.0844      0.37309724 -0.7916705   0.8107792   0.7723608   2.2006779\n",
      "  -1.2481229  -0.8129408   1.3384665   0.15856503  0.40318644 -0.6482197\n",
      "  -0.77282476 -0.6257503   0.9253134   0.26612607]]\n",
      "0.279429\n",
      "\n",
      "Number of training points: 5000\n",
      "Start training at 2018-06-29 11:47:16\n",
      "Training time: 0.22 min\n",
      "\n",
      "Lengthscale and variance afrer traing:\n",
      "[[-0.6398356   0.0299143  -0.21351156 -0.07511127  0.7206081  -0.6525304\n",
      "  -0.53862405  0.5430804  -0.2500805  -1.9012971   1.0269994  -0.6457006\n",
      "  -1.1345057  -0.39587122  0.38858768 -0.51698965  1.0759524   0.11394516\n",
      "  -1.9829192  -0.38717234 -0.75018966  0.7343668  -0.30646285 -0.7080188\n",
      "   0.03631751  0.09076846  0.7178511   1.368689    0.35164037 -0.5510299\n",
      "  -0.9189282   0.21582064  0.84439737 -1.6731207  -1.753134   -0.61306363\n",
      "  -0.6819698   0.0733021  -0.01067207 -0.9499684   1.972865   -0.21676295\n",
      "   0.40219674 -1.1044985  -1.3554798  -0.13770106 -0.98627746  0.18089525\n",
      "  -0.84640616  1.3532692   0.49780315 -0.13960251  0.2875324  -0.81225836\n",
      "   1.8279932   1.0842094   1.3595259  -0.54661703 -0.24409546  0.9948473\n",
      "   1.7058811   0.66248536 -0.25292733 -0.6959465  -0.58707887 -1.1195723\n",
      "  -1.2403299  -1.175795    1.2929125   2.7894657  -0.12363363 -2.0034099\n",
      "   0.9707746  -0.72338486  0.08648692 -0.36110252  1.0005488   0.2766036\n",
      "  -0.26719534  0.16338554 -0.92687595 -0.02778207 -1.2364348   0.17804052\n",
      "   0.37482563 -2.378686   -0.54286927 -1.7887374   2.479297   -0.7386596\n",
      "   0.22504528  1.2412845   1.3288678   0.5303794  -0.45564178 -0.42720282\n",
      "   0.8499732   1.5549856   0.65290743  1.3824495 ]]\n",
      "0.28042898\n"
     ]
    }
   ],
   "source": [
    "with tf.Session() as sess:\n",
    "    sess.run(tf.global_variables_initializer())\n",
    "    loss = m.objective()\n",
    "    optimizer = tf.train.AdamOptimizer(.001)\n",
    "    minimize = optimizer.minimize(loss)\n",
    "    sess.run(tf.variables_initializer(optimizer.variables()))\n",
    "    print(\"Lengthscale and variance before traing:\")\n",
    "    print(sess.run(m.lengthscale))\n",
    "    print(sess.run(m.sigma))\n",
    "    \n",
    "    print(\"\\nNumber of training points:\",X.shape[0])\n",
    "    print(\"Start training\",\"at\",time.strftime(\"%Y-%m-%d %H:%M:%S\", time.gmtime()))\n",
    "    start = time.time()\n",
    "    sess.run(minimize)\n",
    "    print(\"Training time:\",\"{:.2f}\".format((time.time()-start)/60),\"min\")\n",
    "    \n",
    "    #print()\n",
    "    #print(optimizer.variables())\n",
    "    #train(sess,m)\n",
    "    \n",
    "    print()\n",
    "    print(\"Lengthscale and variance afrer traing:\")\n",
    "    print(sess.run(m.lengthscale))#\n",
    "    print(sess.run(m.sigma))\n",
    "    \n",
    "    pred_train = sess.run(m.predict(X))\n",
    "    pred_test = sess.run(m.predict(X_test))"
   ]
  },
  {
   "cell_type": "code",
   "execution_count": 11,
   "metadata": {},
   "outputs": [
    {
     "data": {
      "image/png": "[encoded data removed]",
      "text/plain": [
       "<Figure size 864x864 with 2 Axes>"
      ]
     },
     "metadata": {},
     "output_type": "display_data"
    }
   ],
   "source": [
    "fig = plt.figure(figsize=(12, 12))\n",
    "f3 = fig.add_subplot(221)\n",
    "f3.scatter(Y,pred_train,s=0.7)\n",
    "f3.set_title('Train')\n",
    "f3.set_xlabel('Expected Y')\n",
    "f3.set_ylabel('Predicted Y')\n",
    "\n",
    "f4 = fig.add_subplot(222)\n",
    "f4.scatter(Y_test,pred_test,s=0.7)\n",
    "f4.set_title('Test')\n",
    "f4.set_xlabel('Expected Y')\n",
    "f4.set_ylabel('Predicted Y')\n",
    "plt.show()"
   ]
  },
  {
   "cell_type": "code",
   "execution_count": null,
   "metadata": {},
   "outputs": [],
   "source": []
  },
  {
   "cell_type": "code",
   "execution_count": null,
   "metadata": {},
   "outputs": [],
   "source": []
  },
  {
   "cell_type": "code",
   "execution_count": 68,
   "metadata": {},
   "outputs": [
    {
     "name": "stdout",
     "output_type": "stream",
     "text": [
      "Tensor(\"MatMul_25:0\", shape=(500, 1), dtype=float32)\n"
     ]
    }
   ],
   "source": []
  },
  {
   "cell_type": "code",
   "execution_count": null,
   "metadata": {
    "collapsed": true
   },
   "outputs": [],
   "source": []
  }
 ],
 "metadata": {
  "kernelspec": {
   "display_name": "Python 3",
   "language": "python",
   "name": "python3"
  },
  "language_info": {
   "codemirror_mode": {
    "name": "ipython",
    "version": 3
   },
   "file_extension": ".py",
   "mimetype": "text/x-python",
   "name": "python",
   "nbconvert_exporter": "python",
   "pygments_lexer": "ipython3",
   "version": "3.6.5"
  }
 },
 "nbformat": 4,
 "nbformat_minor": 2
}
